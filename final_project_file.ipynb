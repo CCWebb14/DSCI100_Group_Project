{
 "cells": [
  {
   "cell_type": "markdown",
   "id": "d3e7a32f-65ec-486d-8a94-58fda5457ef6",
   "metadata": {
    "tags": []
   },
   "source": [
    "# Heart Disease Detection Model\n",
    "\n",
    "## Introduction:\n",
    "\n",
    "Heart disease is the second leading cause of death in Canada affecting over 1.2 million citizens (Canada 2022). Since heart disease affects more than 12% of the population and its obvious health consequences, a lot of research has been directed towards its treatment and prevention (Canada 2022). Although this has had great effects in decreasing the overall prevalence of heart disease in Canada since the early 2000s, there is still a major need to accurately detect the presence of heart disease in the population. \n",
    "\n",
    "The purpose of this project is to utilize features collected in cardiovascular health assessments to predict the presence of heart disease in a patient. To achieve this, we want to build a highly accurate classification model using historical data. Since this is a diagnosis classifier, one of our main objectives is to minimize the amount of false negative diagnoses. Our classifier's accuracy in identifying patients with heart disease is crucial due to the significant risks associated with the condition. \n",
    "\n",
    "In order to build this classifier, we will be using data from the heart disease dataset on UC Irvine’s Machine learning repository titled `cleveland.processed.data`. This dataset consists of 14 isolated features from 303 patients referred for coronary angiography at the Cleveland Clinic between May 1981 and September 1984 (Detrano et al., 1989). For this type of analysis, we will be building a classification model using the k-nearest neighbors’ classifier, which has been commonly used in the medical field as a simple but accurate classifier (Tayeb et al., 2017; Parry et al., 2010). In this approach, our new data point (patient) will be compared to all other data points we have in our dataset and to find the closest data points to our new one. The classification is determined by the average classification of the closest neighbors. As such, our classifiers development process will start by determining which attributes to use, then building a model using our training data. We will also utilize cross validation and determine which number of k neighbors’ outputs the highest accuracy.\n",
    "\n",
    "\n",
    "## Method: \n",
    "Initially, according to our proposal, we built two different models, the first without having balanced data and the next having balanced data, based on 4 quantitative variables selected from the original 14 columns of our dataset. These 4 were chosen because of their quantitative nature and scientific collecting methods. The four predictor variables chosen were: \n",
    "1. `trestbps`: resting blood pressure (unit: mm Hg)\n",
    "2. `chol`: serum cholesterol (unit: Milligrams per deciliter(mg/dl))\n",
    "3. `thalach`: maximum heart rate achieved \n",
    "4. `oldpeak`: ST depression induced by exercise relative to rest (usually mm, measured on electrocardiogram (ECG or EKG)).\n",
    "\n",
    "As for our response variable, we used the presence of heart disease(num). It takes 5 levels based on angiographic disease status where level 0 describes healthy patients and levels 1-4 describes patients diagnosed with increasing stages of heart disease.\n",
    "However, these models are not suitable for clinical use as the recalls were too low, with 50.0% for the unbalanced model and 55.6% for the balanced model. The following method section will be based on the best model we trained with 13 predictor variables that were chosen by the original study among 76 collected variables. These included the following variables:\n",
    "1. `age`: Age of the patient (years)\n",
    "1. `sex`: Sex of the patient (Categorical with 2 levels- Male, Female)\n",
    "1. `cp`: Chest pain type (Categorical with 4 levels-Type 1, Type 2, Type 3 and Type 4) Type 1: typical angina, Type 2: atypical angina, Type 3: non-anginal pain, Type 4: asymptomatic\n",
    "1. `trestbps`: resting blood pressure (unit: mm Hg)\n",
    "1. `chol`: serum cholesterol (unit: Milligrams per deciliter(mg/dl))\n",
    "1. `fbs`: Fasting blood sugar > 120 mg/dl (Categorical with 2 levels-True,False)\n",
    "1. `restecg`: Resting electrocardiographic results (Categorical with 3 levels-N(Normal), L1(Level 1), L2(Level 2))\n",
    "1. `thalach`: Maximum heart rate achieved \n",
    "1. `exang`: Exercise induced angina (Categorical with 2 levels-Yes, No)\n",
    "1. `oldpeak`: ST depression induced by exercise relative to rest (usually mm, measured on electrocardiogram (ECG or EKG)).\n",
    "1. `slope`: The slope of the peak exercise ST segment (categorical with 3 levels-Up, Flat, Down)\n",
    "1. `ca`: Number of major vessels (0-3) colored by flourosopy (Categorical with 4 levels-0, 1, 2, 3)\n",
    "1. `thal`: The heart status as retrieved from Thallium test (Categorical with 3 levels-N(normal),FD(fixed defect), RD(reversible defect)\n",
    "\n",
    "For our model training, we will use 75% of the entire dataset as a training set to train our classifier. We will ensure that our predictors are standardized, and the diagnosis presence (0-4) is balanced. Using a parameter grid with a range of k neighbor values, we will tune our model with $k$-fold cross validation. After fitting our predictors and target columns we will plot the $k$ value (x-axis) against the mean validation score (y-axis) to determine the $k$-value that gives us the highest accuracy. Finally, we will evaluate our model on the test set, by comparing the true diagnosis on the test set with our predictions to calculate accuracy. \n",
    "\n",
    "As a part of tuning the classifier and to visualize the result of whether or not our model has good accuracy, we will use a line plot to show the relationship between a range of K neighbours and accuracy estimates from the test datasets. \n",
    "\n",
    "### Expected Results:\n",
    "We anticipate finding a relationship between our 4 predictor variables and the presence or absence of heart disease. This classifier could have major impacts on the early detection of heart disease, allowing for earlier treatment and better prevention, potentially saving lives. In addition, this project could provide a basis for further research in the development of more accurate classifying models of heart disease, e.g. by further investigation into relevant predictor variables.\n"
   ]
  },
  {
   "cell_type": "markdown",
   "id": "e2cad2b1-f1d8-4bb4-8b35-2cdbf8c2a9ab",
   "metadata": {},
   "source": [
    "### Dependencies\n",
    "We first start off by loading dependencies below:"
   ]
  },
  {
   "cell_type": "code",
   "execution_count": null,
   "id": "176ffc51-c055-4b8c-bd96-96d9806c90c7",
   "metadata": {
    "tags": []
   },
   "outputs": [],
   "source": [
    "!pip install pandas==1.5.3\n",
    "!pip install scikit-learn==1.2.0\n",
    "!pip install altair==4.2.2\n",
    "!pip install matplotlib"
   ]
  },
  {
   "cell_type": "code",
   "execution_count": 2,
   "id": "2bf1e42a-633c-4fec-b0c7-81d526b6e15c",
   "metadata": {
    "tags": []
   },
   "outputs": [],
   "source": [
    "import pandas as pd\n",
    "import altair as alt\n",
    "import numpy as np\n",
    "import matplotlib.pyplot as plt \n",
    "from sklearn import set_config\n",
    "from sklearn.compose import make_column_transformer\n",
    "from sklearn.metrics import confusion_matrix, precision_score, recall_score, confusion_matrix, ConfusionMatrixDisplay\n",
    "from sklearn.utils import resample\n",
    "from sklearn.model_selection import (\n",
    "    GridSearchCV,\n",
    "    RandomizedSearchCV,\n",
    "    cross_validate,\n",
    "    train_test_split,\n",
    ")\n",
    "from sklearn.neighbors import KNeighborsClassifier\n",
    "from sklearn.pipeline import make_pipeline\n",
    "from sklearn.preprocessing import StandardScaler\n",
    "\n",
    "# Simplify working with large datasets in Altair\n",
    "alt.data_transformers.disable_max_rows()\n",
    "\n",
    "# Output dataframes instead of arrays\n",
    "set_config(transform_output=\"pandas\")\n",
    "\n",
    "set_config()"
   ]
  },
  {
   "cell_type": "code",
   "execution_count": 3,
   "id": "66e51c6e-5f2d-44d9-b8ac-ca8eec70bdb9",
   "metadata": {},
   "outputs": [],
   "source": [
    "np.random.seed(seed=330)"
   ]
  },
  {
   "cell_type": "markdown",
   "id": "b2ec7f1b-904a-4cfb-9878-466fc80f3f60",
   "metadata": {},
   "source": [
    "### Loading dataset\n",
    "\n",
    "Utilizing `pd.read_csv()` we can read in the dataset from  as detailed below. We will also isolate our predictors and target. We can also split it into a training and testing set."
   ]
  },
  {
   "cell_type": "code",
   "execution_count": 4,
   "id": "9de0b729-2cba-4811-a0fb-40a63c6e74dd",
   "metadata": {
    "tags": []
   },
   "outputs": [
    {
     "data": {
      "text/html": [
       "<div>\n",
       "<style scoped>\n",
       "    .dataframe tbody tr th:only-of-type {\n",
       "        vertical-align: middle;\n",
       "    }\n",
       "\n",
       "    .dataframe tbody tr th {\n",
       "        vertical-align: top;\n",
       "    }\n",
       "\n",
       "    .dataframe thead th {\n",
       "        text-align: right;\n",
       "    }\n",
       "</style>\n",
       "<table border=\"1\" class=\"dataframe\">\n",
       "  <thead>\n",
       "    <tr style=\"text-align: right;\">\n",
       "      <th></th>\n",
       "      <th>age</th>\n",
       "      <th>sex</th>\n",
       "      <th>cp</th>\n",
       "      <th>trestbps</th>\n",
       "      <th>chol</th>\n",
       "      <th>fbs</th>\n",
       "      <th>restecg</th>\n",
       "      <th>thalach</th>\n",
       "      <th>exang</th>\n",
       "      <th>oldpeak</th>\n",
       "      <th>slope</th>\n",
       "      <th>ca</th>\n",
       "      <th>thal</th>\n",
       "      <th>heart_disease_presence</th>\n",
       "    </tr>\n",
       "  </thead>\n",
       "  <tbody>\n",
       "    <tr>\n",
       "      <th>0</th>\n",
       "      <td>63.0</td>\n",
       "      <td>1.0</td>\n",
       "      <td>1.0</td>\n",
       "      <td>145.0</td>\n",
       "      <td>233.0</td>\n",
       "      <td>1.0</td>\n",
       "      <td>2.0</td>\n",
       "      <td>150.0</td>\n",
       "      <td>0.0</td>\n",
       "      <td>2.3</td>\n",
       "      <td>3.0</td>\n",
       "      <td>0.0</td>\n",
       "      <td>6.0</td>\n",
       "      <td>0</td>\n",
       "    </tr>\n",
       "    <tr>\n",
       "      <th>1</th>\n",
       "      <td>67.0</td>\n",
       "      <td>1.0</td>\n",
       "      <td>4.0</td>\n",
       "      <td>160.0</td>\n",
       "      <td>286.0</td>\n",
       "      <td>0.0</td>\n",
       "      <td>2.0</td>\n",
       "      <td>108.0</td>\n",
       "      <td>1.0</td>\n",
       "      <td>1.5</td>\n",
       "      <td>2.0</td>\n",
       "      <td>3.0</td>\n",
       "      <td>3.0</td>\n",
       "      <td>2</td>\n",
       "    </tr>\n",
       "    <tr>\n",
       "      <th>2</th>\n",
       "      <td>67.0</td>\n",
       "      <td>1.0</td>\n",
       "      <td>4.0</td>\n",
       "      <td>120.0</td>\n",
       "      <td>229.0</td>\n",
       "      <td>0.0</td>\n",
       "      <td>2.0</td>\n",
       "      <td>129.0</td>\n",
       "      <td>1.0</td>\n",
       "      <td>2.6</td>\n",
       "      <td>2.0</td>\n",
       "      <td>2.0</td>\n",
       "      <td>7.0</td>\n",
       "      <td>1</td>\n",
       "    </tr>\n",
       "    <tr>\n",
       "      <th>3</th>\n",
       "      <td>37.0</td>\n",
       "      <td>1.0</td>\n",
       "      <td>3.0</td>\n",
       "      <td>130.0</td>\n",
       "      <td>250.0</td>\n",
       "      <td>0.0</td>\n",
       "      <td>0.0</td>\n",
       "      <td>187.0</td>\n",
       "      <td>0.0</td>\n",
       "      <td>3.5</td>\n",
       "      <td>3.0</td>\n",
       "      <td>0.0</td>\n",
       "      <td>3.0</td>\n",
       "      <td>0</td>\n",
       "    </tr>\n",
       "    <tr>\n",
       "      <th>4</th>\n",
       "      <td>41.0</td>\n",
       "      <td>0.0</td>\n",
       "      <td>2.0</td>\n",
       "      <td>130.0</td>\n",
       "      <td>204.0</td>\n",
       "      <td>0.0</td>\n",
       "      <td>2.0</td>\n",
       "      <td>172.0</td>\n",
       "      <td>0.0</td>\n",
       "      <td>1.4</td>\n",
       "      <td>1.0</td>\n",
       "      <td>0.0</td>\n",
       "      <td>3.0</td>\n",
       "      <td>0</td>\n",
       "    </tr>\n",
       "  </tbody>\n",
       "</table>\n",
       "</div>"
      ],
      "text/plain": [
       "    age  sex   cp  trestbps   chol  fbs  restecg  thalach  exang  oldpeak  \\\n",
       "0  63.0  1.0  1.0     145.0  233.0  1.0      2.0    150.0    0.0      2.3   \n",
       "1  67.0  1.0  4.0     160.0  286.0  0.0      2.0    108.0    1.0      1.5   \n",
       "2  67.0  1.0  4.0     120.0  229.0  0.0      2.0    129.0    1.0      2.6   \n",
       "3  37.0  1.0  3.0     130.0  250.0  0.0      0.0    187.0    0.0      3.5   \n",
       "4  41.0  0.0  2.0     130.0  204.0  0.0      2.0    172.0    0.0      1.4   \n",
       "\n",
       "   slope   ca thal  heart_disease_presence  \n",
       "0    3.0  0.0  6.0                       0  \n",
       "1    2.0  3.0  3.0                       2  \n",
       "2    2.0  2.0  7.0                       1  \n",
       "3    3.0  0.0  3.0                       0  \n",
       "4    1.0  0.0  3.0                       0  "
      ]
     },
     "execution_count": 4,
     "metadata": {},
     "output_type": "execute_result"
    }
   ],
   "source": [
    "col_names = ['age', 'sex', 'cp', 'trestbps', 'chol', 'fbs', 'restecg', 'thalach', 'exang', 'oldpeak', 'slope', 'ca', 'thal', 'heart_disease_presence']\n",
    "url = 'https://github.com/CCWebb14/DSCI100_Group_Project/blob/main/data/processed.cleveland.data?raw=true'\n",
    "\n",
    "cleveland = pd.read_csv(url, names=col_names)\n",
    "cleveland.head(5)"
   ]
  },
  {
   "cell_type": "markdown",
   "id": "142f6208-a92b-46fe-8d21-1a529e4572a1",
   "metadata": {},
   "source": [
    "###  Dataset preprocessing\n",
    "\n",
    "The data was already processed into 14 columns in total with 13 selected variables used for establishing a probability model in Detrano et al.’s study (1984). During the preprocessing of the dataset, rows with empty values were dropped, and levels of 1 to 4 indicated positive heart disease in the column heart_disease_presence were converted to 1 and the absence of heart disease remained as 0. The preprocessed dataset consisted of 297 observations with 14 columns."
   ]
  },
  {
   "cell_type": "code",
   "execution_count": 5,
   "id": "c4ca2974-24d1-4d73-956c-9c5ba998f61b",
   "metadata": {
    "tags": []
   },
   "outputs": [
    {
     "data": {
      "text/html": [
       "<div>\n",
       "<style scoped>\n",
       "    .dataframe tbody tr th:only-of-type {\n",
       "        vertical-align: middle;\n",
       "    }\n",
       "\n",
       "    .dataframe tbody tr th {\n",
       "        vertical-align: top;\n",
       "    }\n",
       "\n",
       "    .dataframe thead th {\n",
       "        text-align: right;\n",
       "    }\n",
       "</style>\n",
       "<table border=\"1\" class=\"dataframe\">\n",
       "  <thead>\n",
       "    <tr style=\"text-align: right;\">\n",
       "      <th></th>\n",
       "      <th>age</th>\n",
       "      <th>sex</th>\n",
       "      <th>cp</th>\n",
       "      <th>trestbps</th>\n",
       "      <th>chol</th>\n",
       "      <th>fbs</th>\n",
       "      <th>restecg</th>\n",
       "      <th>thalach</th>\n",
       "      <th>exang</th>\n",
       "      <th>oldpeak</th>\n",
       "      <th>slope</th>\n",
       "      <th>ca</th>\n",
       "      <th>thal</th>\n",
       "      <th>heart_disease_presence</th>\n",
       "    </tr>\n",
       "  </thead>\n",
       "  <tbody>\n",
       "    <tr>\n",
       "      <th>0</th>\n",
       "      <td>63.0</td>\n",
       "      <td>1.0</td>\n",
       "      <td>1.0</td>\n",
       "      <td>145.0</td>\n",
       "      <td>233.0</td>\n",
       "      <td>1.0</td>\n",
       "      <td>2.0</td>\n",
       "      <td>150.0</td>\n",
       "      <td>0.0</td>\n",
       "      <td>2.3</td>\n",
       "      <td>3.0</td>\n",
       "      <td>0.0</td>\n",
       "      <td>6.0</td>\n",
       "      <td>0</td>\n",
       "    </tr>\n",
       "    <tr>\n",
       "      <th>1</th>\n",
       "      <td>67.0</td>\n",
       "      <td>1.0</td>\n",
       "      <td>4.0</td>\n",
       "      <td>160.0</td>\n",
       "      <td>286.0</td>\n",
       "      <td>0.0</td>\n",
       "      <td>2.0</td>\n",
       "      <td>108.0</td>\n",
       "      <td>1.0</td>\n",
       "      <td>1.5</td>\n",
       "      <td>2.0</td>\n",
       "      <td>3.0</td>\n",
       "      <td>3.0</td>\n",
       "      <td>1</td>\n",
       "    </tr>\n",
       "    <tr>\n",
       "      <th>2</th>\n",
       "      <td>67.0</td>\n",
       "      <td>1.0</td>\n",
       "      <td>4.0</td>\n",
       "      <td>120.0</td>\n",
       "      <td>229.0</td>\n",
       "      <td>0.0</td>\n",
       "      <td>2.0</td>\n",
       "      <td>129.0</td>\n",
       "      <td>1.0</td>\n",
       "      <td>2.6</td>\n",
       "      <td>2.0</td>\n",
       "      <td>2.0</td>\n",
       "      <td>7.0</td>\n",
       "      <td>1</td>\n",
       "    </tr>\n",
       "    <tr>\n",
       "      <th>3</th>\n",
       "      <td>37.0</td>\n",
       "      <td>1.0</td>\n",
       "      <td>3.0</td>\n",
       "      <td>130.0</td>\n",
       "      <td>250.0</td>\n",
       "      <td>0.0</td>\n",
       "      <td>0.0</td>\n",
       "      <td>187.0</td>\n",
       "      <td>0.0</td>\n",
       "      <td>3.5</td>\n",
       "      <td>3.0</td>\n",
       "      <td>0.0</td>\n",
       "      <td>3.0</td>\n",
       "      <td>0</td>\n",
       "    </tr>\n",
       "    <tr>\n",
       "      <th>4</th>\n",
       "      <td>41.0</td>\n",
       "      <td>0.0</td>\n",
       "      <td>2.0</td>\n",
       "      <td>130.0</td>\n",
       "      <td>204.0</td>\n",
       "      <td>0.0</td>\n",
       "      <td>2.0</td>\n",
       "      <td>172.0</td>\n",
       "      <td>0.0</td>\n",
       "      <td>1.4</td>\n",
       "      <td>1.0</td>\n",
       "      <td>0.0</td>\n",
       "      <td>3.0</td>\n",
       "      <td>0</td>\n",
       "    </tr>\n",
       "  </tbody>\n",
       "</table>\n",
       "</div>"
      ],
      "text/plain": [
       "    age  sex   cp  trestbps   chol  fbs  restecg  thalach  exang  oldpeak  \\\n",
       "0  63.0  1.0  1.0     145.0  233.0  1.0      2.0    150.0    0.0      2.3   \n",
       "1  67.0  1.0  4.0     160.0  286.0  0.0      2.0    108.0    1.0      1.5   \n",
       "2  67.0  1.0  4.0     120.0  229.0  0.0      2.0    129.0    1.0      2.6   \n",
       "3  37.0  1.0  3.0     130.0  250.0  0.0      0.0    187.0    0.0      3.5   \n",
       "4  41.0  0.0  2.0     130.0  204.0  0.0      2.0    172.0    0.0      1.4   \n",
       "\n",
       "   slope   ca thal  heart_disease_presence  \n",
       "0    3.0  0.0  6.0                       0  \n",
       "1    2.0  3.0  3.0                       1  \n",
       "2    2.0  2.0  7.0                       1  \n",
       "3    3.0  0.0  3.0                       0  \n",
       "4    1.0  0.0  3.0                       0  "
      ]
     },
     "execution_count": 5,
     "metadata": {},
     "output_type": "execute_result"
    }
   ],
   "source": [
    "def replace_values_greater_than_1(value):\n",
    "    if value > 1:\n",
    "        return 1\n",
    "    else:\n",
    "        return value\n",
    "\n",
    "cleveland['heart_disease_presence'] = cleveland['heart_disease_presence'].apply(replace_values_greater_than_1)\n",
    "cleveland.head(5)"
   ]
  },
  {
   "cell_type": "code",
   "execution_count": 6,
   "id": "d70251bf-400d-4a9c-b870-5f5c819e13a7",
   "metadata": {
    "tags": []
   },
   "outputs": [],
   "source": [
    "cleveland = cleveland[~cleveland.isin(['?']).any(axis=1)]"
   ]
  },
  {
   "cell_type": "markdown",
   "id": "bdaf3c92-b49d-4c99-bc13-cfb70aab2a7f",
   "metadata": {},
   "source": [
    "Then, we randomly split the dataset into a 75% training set (222 observations) and a 25% testing set (75 observations). "
   ]
  },
  {
   "cell_type": "code",
   "execution_count": 7,
   "id": "2c5bdfd6-35f6-4e76-85df-cb84a47a794a",
   "metadata": {
    "tags": []
   },
   "outputs": [],
   "source": [
    "cleveland_train, cleveland_test = train_test_split(cleveland, test_size=0.25)"
   ]
  },
  {
   "cell_type": "markdown",
   "id": "2098f61a-15c2-4803-9c97-2c8ac1b19b54",
   "metadata": {},
   "source": [
    "To build a classifier using K-nearest neighbours, it was essential to scale all the predictors, so standardizing the predictors is performed through preprocessing using the `StandardScaler()` function in the `scikit-learn` package."
   ]
  },
  {
   "cell_type": "code",
   "execution_count": 8,
   "id": "38cea1e8-2b68-4d1e-8314-bd6f01ad38c0",
   "metadata": {
    "tags": []
   },
   "outputs": [],
   "source": [
    "cleveland_preprocessor = make_column_transformer(\n",
    "    (StandardScaler(), ['age', 'sex', 'cp', 'trestbps', 'chol', 'fbs', 'restecg', 'thalach', 'exang', 'oldpeak', 'slope', 'ca', 'thal']),\n",
    "    remainder = 'passthrough',\n",
    "    verbose_feature_names_out=False\n",
    ")\n",
    "\n",
    "cleveland_train_scaled = cleveland_preprocessor.fit_transform(cleveland_train)\n",
    "cleveland_test_scaled = cleveland_preprocessor.fit_transform(cleveland_test)"
   ]
  },
  {
   "cell_type": "markdown",
   "id": "25177563-0d22-4220-8484-95781a67bfd2",
   "metadata": {
    "tags": []
   },
   "source": [
    "#### Disease Presence Counts\n",
    "\n",
    "The training set and testing set were transformed separately to prevent data leakage. The training set consisted of 119 observations of no presence of heart disease and 103 observations of positive presence of heart disease."
   ]
  },
  {
   "cell_type": "code",
   "execution_count": 9,
   "id": "bdfad28b-b561-4afa-9f48-34286d1738ae",
   "metadata": {
    "tags": []
   },
   "outputs": [
    {
     "data": {
      "text/html": [
       "<div>\n",
       "<style scoped>\n",
       "    .dataframe tbody tr th:only-of-type {\n",
       "        vertical-align: middle;\n",
       "    }\n",
       "\n",
       "    .dataframe tbody tr th {\n",
       "        vertical-align: top;\n",
       "    }\n",
       "\n",
       "    .dataframe thead th {\n",
       "        text-align: right;\n",
       "    }\n",
       "</style>\n",
       "<table border=\"1\" class=\"dataframe\">\n",
       "  <thead>\n",
       "    <tr style=\"text-align: right;\">\n",
       "      <th></th>\n",
       "      <th>heart_disease_presence</th>\n",
       "      <th>count</th>\n",
       "    </tr>\n",
       "  </thead>\n",
       "  <tbody>\n",
       "    <tr>\n",
       "      <th>0</th>\n",
       "      <td>0</td>\n",
       "      <td>119</td>\n",
       "    </tr>\n",
       "    <tr>\n",
       "      <th>1</th>\n",
       "      <td>1</td>\n",
       "      <td>103</td>\n",
       "    </tr>\n",
       "  </tbody>\n",
       "</table>\n",
       "</div>"
      ],
      "text/plain": [
       "   heart_disease_presence  count\n",
       "0                       0    119\n",
       "1                       1    103"
      ]
     },
     "execution_count": 9,
     "metadata": {},
     "output_type": "execute_result"
    }
   ],
   "source": [
    "disease_presence_counts = pd.DataFrame(cleveland_train_scaled['heart_disease_presence'].value_counts()).reset_index().rename(\n",
    "    columns={'index': 'heart_disease_presence', 'heart_disease_presence':'count'})\n",
    "\n",
    "disease_presence_counts"
   ]
  },
  {
   "cell_type": "markdown",
   "id": "2c21fe84-8625-4330-a45e-b4aa1ca66514",
   "metadata": {},
   "source": [
    "This training dataset was balanced using the `resample()` method, so both the negative and positive presence of heart diseases have 119 observations.  "
   ]
  },
  {
   "cell_type": "code",
   "execution_count": 10,
   "id": "6aa535d6-ea49-4dea-afef-9de3753d3587",
   "metadata": {
    "tags": []
   },
   "outputs": [
    {
     "data": {
      "text/html": [
       "<div>\n",
       "<style scoped>\n",
       "    .dataframe tbody tr th:only-of-type {\n",
       "        vertical-align: middle;\n",
       "    }\n",
       "\n",
       "    .dataframe tbody tr th {\n",
       "        vertical-align: top;\n",
       "    }\n",
       "\n",
       "    .dataframe thead th {\n",
       "        text-align: right;\n",
       "    }\n",
       "</style>\n",
       "<table border=\"1\" class=\"dataframe\">\n",
       "  <thead>\n",
       "    <tr style=\"text-align: right;\">\n",
       "      <th></th>\n",
       "      <th>heart_disease_presence</th>\n",
       "      <th>count</th>\n",
       "    </tr>\n",
       "  </thead>\n",
       "  <tbody>\n",
       "    <tr>\n",
       "      <th>0</th>\n",
       "      <td>1</td>\n",
       "      <td>119</td>\n",
       "    </tr>\n",
       "    <tr>\n",
       "      <th>1</th>\n",
       "      <td>0</td>\n",
       "      <td>119</td>\n",
       "    </tr>\n",
       "  </tbody>\n",
       "</table>\n",
       "</div>"
      ],
      "text/plain": [
       "   heart_disease_presence  count\n",
       "0                       1    119\n",
       "1                       0    119"
      ]
     },
     "execution_count": 10,
     "metadata": {},
     "output_type": "execute_result"
    }
   ],
   "source": [
    "positive_heart_disease = cleveland_train_scaled[cleveland_train_scaled['heart_disease_presence'] == 1]\n",
    "negative_heart_disease = cleveland_train_scaled[cleveland_train_scaled['heart_disease_presence'] == 0]\n",
    "\n",
    "positive_heart_disease_upsample = resample(\n",
    "    positive_heart_disease, n_samples=negative_heart_disease.shape[0]\n",
    ")\n",
    "upsampled_positive_heart_disease = pd.concat((positive_heart_disease_upsample, negative_heart_disease))\n",
    "upsampled_disease_presence_counts = pd.DataFrame(upsampled_positive_heart_disease['heart_disease_presence'].value_counts()).reset_index().rename(\n",
    "    columns={'index': 'heart_disease_presence', 'heart_disease_presence':'count'})\n",
    "upsampled_disease_presence_counts"
   ]
  },
  {
   "cell_type": "code",
   "execution_count": 11,
   "id": "cf18ad2c-b327-4739-b828-306a7a9baa5c",
   "metadata": {
    "tags": []
   },
   "outputs": [],
   "source": [
    "X_train = upsampled_positive_heart_disease.drop(columns = {'heart_disease_presence'})\n",
    "y_train = upsampled_positive_heart_disease['heart_disease_presence']"
   ]
  },
  {
   "cell_type": "markdown",
   "id": "006eb2a4-e00d-4651-a922-26f5e30b10c2",
   "metadata": {},
   "source": [
    "Using a parameter grid with a range of 0 to 30 (exclusive) K-neighbours, we tuned our model with 10-fold cross-validation. `GridSearchCV()` method was used for tuning and scoring and was based on recall for clinical reasons to place focus on low false negatives. Then, a line graph (Figure 1) was generated after fitting the tuned grid, to show the accuracies across all numbers of neighbours in the range of 0 to 30. \n"
   ]
  },
  {
   "cell_type": "code",
   "execution_count": 12,
   "id": "60df4246-439d-43f4-ad24-6e4b79de1768",
   "metadata": {
    "tags": []
   },
   "outputs": [],
   "source": [
    "param_grid = {\n",
    "    \"kneighborsclassifier__n_neighbors\": range(1, 40, 1),\n",
    "}\n",
    "cleveland_tune_pipe = make_pipeline(cleveland_preprocessor, KNeighborsClassifier())"
   ]
  },
  {
   "cell_type": "code",
   "execution_count": 13,
   "id": "0a171926-2e22-4e0b-9816-a7242067e0da",
   "metadata": {
    "tags": []
   },
   "outputs": [],
   "source": [
    "knn_tune_grid = GridSearchCV(\n",
    "    cleveland_tune_pipe, param_grid, cv=10\n",
    ")"
   ]
  },
  {
   "cell_type": "code",
   "execution_count": 14,
   "id": "73f6667a-7506-4142-8635-b7b16521406f",
   "metadata": {
    "tags": []
   },
   "outputs": [],
   "source": [
    "knn_model_grid = knn_tune_grid.fit(X_train, y_train)\n",
    "accuracies_grid = pd.DataFrame(knn_model_grid.cv_results_) "
   ]
  },
  {
   "cell_type": "code",
   "execution_count": 15,
   "id": "e5843dcd-8af2-4477-b51e-c6b95866e3a2",
   "metadata": {
    "tags": []
   },
   "outputs": [
    {
     "data": {
      "text/html": [
       "\n",
       "<div id=\"altair-viz-5c3577c4c2984b42b8910671903a3616\"></div>\n",
       "<script type=\"text/javascript\">\n",
       "  var VEGA_DEBUG = (typeof VEGA_DEBUG == \"undefined\") ? {} : VEGA_DEBUG;\n",
       "  (function(spec, embedOpt){\n",
       "    let outputDiv = document.currentScript.previousElementSibling;\n",
       "    if (outputDiv.id !== \"altair-viz-5c3577c4c2984b42b8910671903a3616\") {\n",
       "      outputDiv = document.getElementById(\"altair-viz-5c3577c4c2984b42b8910671903a3616\");\n",
       "    }\n",
       "    const paths = {\n",
       "      \"vega\": \"https://cdn.jsdelivr.net/npm//vega@5?noext\",\n",
       "      \"vega-lib\": \"https://cdn.jsdelivr.net/npm//vega-lib?noext\",\n",
       "      \"vega-lite\": \"https://cdn.jsdelivr.net/npm//vega-lite@4.17.0?noext\",\n",
       "      \"vega-embed\": \"https://cdn.jsdelivr.net/npm//vega-embed@6?noext\",\n",
       "    };\n",
       "\n",
       "    function maybeLoadScript(lib, version) {\n",
       "      var key = `${lib.replace(\"-\", \"\")}_version`;\n",
       "      return (VEGA_DEBUG[key] == version) ?\n",
       "        Promise.resolve(paths[lib]) :\n",
       "        new Promise(function(resolve, reject) {\n",
       "          var s = document.createElement('script');\n",
       "          document.getElementsByTagName(\"head\")[0].appendChild(s);\n",
       "          s.async = true;\n",
       "          s.onload = () => {\n",
       "            VEGA_DEBUG[key] = version;\n",
       "            return resolve(paths[lib]);\n",
       "          };\n",
       "          s.onerror = () => reject(`Error loading script: ${paths[lib]}`);\n",
       "          s.src = paths[lib];\n",
       "        });\n",
       "    }\n",
       "\n",
       "    function showError(err) {\n",
       "      outputDiv.innerHTML = `<div class=\"error\" style=\"color:red;\">${err}</div>`;\n",
       "      throw err;\n",
       "    }\n",
       "\n",
       "    function displayChart(vegaEmbed) {\n",
       "      vegaEmbed(outputDiv, spec, embedOpt)\n",
       "        .catch(err => showError(`Javascript Error: ${err.message}<br>This usually means there's a typo in your chart specification. See the javascript console for the full traceback.`));\n",
       "    }\n",
       "\n",
       "    if(typeof define === \"function\" && define.amd) {\n",
       "      requirejs.config({paths});\n",
       "      require([\"vega-embed\"], displayChart, err => showError(`Error loading script: ${err.message}`));\n",
       "    } else {\n",
       "      maybeLoadScript(\"vega\", \"5\")\n",
       "        .then(() => maybeLoadScript(\"vega-lite\", \"4.17.0\"))\n",
       "        .then(() => maybeLoadScript(\"vega-embed\", \"6\"))\n",
       "        .catch(showError)\n",
       "        .then(() => displayChart(vegaEmbed));\n",
       "    }\n",
       "  })({\"config\": {\"view\": {\"continuousWidth\": 400, \"continuousHeight\": 300}}, \"data\": {\"name\": \"data-669f8a98335cca44b1932c44c6bf84ae\"}, \"mark\": {\"type\": \"line\", \"point\": true}, \"encoding\": {\"x\": {\"field\": \"param_kneighborsclassifier__n_neighbors\", \"scale\": {\"zero\": false}, \"title\": \"Number of Neighbors\", \"type\": \"quantitative\"}, \"y\": {\"field\": \"mean_test_score\", \"scale\": {\"zero\": false}, \"title\": \"Mean Test Score\", \"type\": \"quantitative\"}}, \"title\": \"Figure 1: Mean Test Score against K (Number of Neighbors)\", \"$schema\": \"https://vega.github.io/schema/vega-lite/v4.17.0.json\", \"datasets\": {\"data-669f8a98335cca44b1932c44c6bf84ae\": [{\"mean_fit_time\": 0.0022977352142333984, \"std_fit_time\": 0.0007056947024133987, \"mean_score_time\": 0.002139425277709961, \"std_score_time\": 0.0003427564268080572, \"param_kneighborsclassifier__n_neighbors\": 1, \"params\": {\"kneighborsclassifier__n_neighbors\": 1}, \"split0_test_score\": 0.875, \"split1_test_score\": 0.8333333333333334, \"split2_test_score\": 0.875, \"split3_test_score\": 0.875, \"split4_test_score\": 0.9583333333333334, \"split5_test_score\": 0.7916666666666666, \"split6_test_score\": 0.9166666666666666, \"split7_test_score\": 0.8333333333333334, \"split8_test_score\": 0.9130434782608695, \"split9_test_score\": 0.8695652173913043, \"mean_test_score\": 0.8740942028985508, \"std_test_score\": 0.045349598276634505, \"rank_test_score\": 4}, {\"mean_fit_time\": 0.0020020008087158203, \"std_fit_time\": 0.00018397756236154868, \"mean_score_time\": 0.0019035816192626953, \"std_score_time\": 0.00013572036198978362, \"param_kneighborsclassifier__n_neighbors\": 2, \"params\": {\"kneighborsclassifier__n_neighbors\": 2}, \"split0_test_score\": 0.875, \"split1_test_score\": 0.875, \"split2_test_score\": 0.8333333333333334, \"split3_test_score\": 0.8333333333333334, \"split4_test_score\": 0.875, \"split5_test_score\": 0.7916666666666666, \"split6_test_score\": 0.875, \"split7_test_score\": 0.875, \"split8_test_score\": 0.9130434782608695, \"split9_test_score\": 0.8695652173913043, \"mean_test_score\": 0.8615942028985508, \"std_test_score\": 0.03177476326836038, \"rank_test_score\": 9}, {\"mean_fit_time\": 0.0020390987396240235, \"std_fit_time\": 0.00019233400409794746, \"mean_score_time\": 0.0019225120544433595, \"std_score_time\": 0.00012273228053805895, \"param_kneighborsclassifier__n_neighbors\": 3, \"params\": {\"kneighborsclassifier__n_neighbors\": 3}, \"split0_test_score\": 0.7916666666666666, \"split1_test_score\": 0.875, \"split2_test_score\": 0.8333333333333334, \"split3_test_score\": 0.8333333333333334, \"split4_test_score\": 0.9166666666666666, \"split5_test_score\": 0.7916666666666666, \"split6_test_score\": 0.9166666666666666, \"split7_test_score\": 0.875, \"split8_test_score\": 0.8260869565217391, \"split9_test_score\": 0.8695652173913043, \"mean_test_score\": 0.8528985507246377, \"std_test_score\": 0.04286095591202932, \"rank_test_score\": 13}, {\"mean_fit_time\": 0.0020445585250854492, \"std_fit_time\": 0.0002140073972077216, \"mean_score_time\": 0.001962161064147949, \"std_score_time\": 0.00012394173037275546, \"param_kneighborsclassifier__n_neighbors\": 4, \"params\": {\"kneighborsclassifier__n_neighbors\": 4}, \"split0_test_score\": 0.8333333333333334, \"split1_test_score\": 0.875, \"split2_test_score\": 0.8333333333333334, \"split3_test_score\": 0.7916666666666666, \"split4_test_score\": 0.9583333333333334, \"split5_test_score\": 0.8333333333333334, \"split6_test_score\": 0.875, \"split7_test_score\": 0.875, \"split8_test_score\": 0.9130434782608695, \"split9_test_score\": 0.9130434782608695, \"mean_test_score\": 0.8701086956521739, \"std_test_score\": 0.04663966779080025, \"rank_test_score\": 6}, {\"mean_fit_time\": 0.001803445816040039, \"std_fit_time\": 3.557933804344409e-05, \"mean_score_time\": 0.0017845869064331056, \"std_score_time\": 4.6713063260038895e-05, \"param_kneighborsclassifier__n_neighbors\": 5, \"params\": {\"kneighborsclassifier__n_neighbors\": 5}, \"split0_test_score\": 0.7916666666666666, \"split1_test_score\": 0.9166666666666666, \"split2_test_score\": 0.8333333333333334, \"split3_test_score\": 0.7916666666666666, \"split4_test_score\": 0.9166666666666666, \"split5_test_score\": 0.8333333333333334, \"split6_test_score\": 0.875, \"split7_test_score\": 0.8333333333333334, \"split8_test_score\": 0.9130434782608695, \"split9_test_score\": 0.9130434782608695, \"mean_test_score\": 0.8617753623188404, \"std_test_score\": 0.048698199661625606, \"rank_test_score\": 8}, {\"mean_fit_time\": 0.0018177509307861328, \"std_fit_time\": 5.076992507256761e-05, \"mean_score_time\": 0.0018297910690307617, \"std_score_time\": 6.868301332139003e-05, \"param_kneighborsclassifier__n_neighbors\": 6, \"params\": {\"kneighborsclassifier__n_neighbors\": 6}, \"split0_test_score\": 0.7916666666666666, \"split1_test_score\": 0.9166666666666666, \"split2_test_score\": 0.75, \"split3_test_score\": 0.75, \"split4_test_score\": 0.9583333333333334, \"split5_test_score\": 0.7916666666666666, \"split6_test_score\": 0.8333333333333334, \"split7_test_score\": 0.875, \"split8_test_score\": 0.8695652173913043, \"split9_test_score\": 0.9130434782608695, \"mean_test_score\": 0.844927536231884, \"std_test_score\": 0.06927399792483334, \"rank_test_score\": 19}, {\"mean_fit_time\": 0.0019447088241577148, \"std_fit_time\": 0.00018413448428574716, \"mean_score_time\": 0.0018653154373168945, \"std_score_time\": 0.00010286478623423268, \"param_kneighborsclassifier__n_neighbors\": 7, \"params\": {\"kneighborsclassifier__n_neighbors\": 7}, \"split0_test_score\": 0.6666666666666666, \"split1_test_score\": 0.9166666666666666, \"split2_test_score\": 0.7916666666666666, \"split3_test_score\": 0.7083333333333334, \"split4_test_score\": 0.9583333333333334, \"split5_test_score\": 0.7916666666666666, \"split6_test_score\": 0.7916666666666666, \"split7_test_score\": 0.875, \"split8_test_score\": 0.9565217391304348, \"split9_test_score\": 0.8695652173913043, \"mean_test_score\": 0.8326086956521739, \"std_test_score\": 0.09455133442432143, \"rank_test_score\": 29}, {\"mean_fit_time\": 0.001807236671447754, \"std_fit_time\": 8.369432502469127e-05, \"mean_score_time\": 0.0017887115478515624, \"std_score_time\": 3.2895059870060545e-05, \"param_kneighborsclassifier__n_neighbors\": 8, \"params\": {\"kneighborsclassifier__n_neighbors\": 8}, \"split0_test_score\": 0.7916666666666666, \"split1_test_score\": 0.9166666666666666, \"split2_test_score\": 0.7083333333333334, \"split3_test_score\": 0.7083333333333334, \"split4_test_score\": 0.9583333333333334, \"split5_test_score\": 0.875, \"split6_test_score\": 0.7916666666666666, \"split7_test_score\": 0.8333333333333334, \"split8_test_score\": 0.9565217391304348, \"split9_test_score\": 0.9130434782608695, \"mean_test_score\": 0.8452898550724639, \"std_test_score\": 0.08895351830253535, \"rank_test_score\": 16}, {\"mean_fit_time\": 0.0018060445785522462, \"std_fit_time\": 8.981449391808202e-05, \"mean_score_time\": 0.001805257797241211, \"std_score_time\": 4.91822105552254e-05, \"param_kneighborsclassifier__n_neighbors\": 9, \"params\": {\"kneighborsclassifier__n_neighbors\": 9}, \"split0_test_score\": 0.7083333333333334, \"split1_test_score\": 0.9166666666666666, \"split2_test_score\": 0.7083333333333334, \"split3_test_score\": 0.75, \"split4_test_score\": 0.9583333333333334, \"split5_test_score\": 0.8333333333333334, \"split6_test_score\": 0.8333333333333334, \"split7_test_score\": 0.8333333333333334, \"split8_test_score\": 0.9565217391304348, \"split9_test_score\": 0.9130434782608695, \"mean_test_score\": 0.841123188405797, \"std_test_score\": 0.0903803966552422, \"rank_test_score\": 22}, {\"mean_fit_time\": 0.0017535924911499024, \"std_fit_time\": 4.097699640433493e-05, \"mean_score_time\": 0.0018127679824829102, \"std_score_time\": 5.430650329846066e-05, \"param_kneighborsclassifier__n_neighbors\": 10, \"params\": {\"kneighborsclassifier__n_neighbors\": 10}, \"split0_test_score\": 0.75, \"split1_test_score\": 0.9166666666666666, \"split2_test_score\": 0.7083333333333334, \"split3_test_score\": 0.75, \"split4_test_score\": 0.9583333333333334, \"split5_test_score\": 0.875, \"split6_test_score\": 0.8333333333333334, \"split7_test_score\": 0.875, \"split8_test_score\": 0.9130434782608695, \"split9_test_score\": 0.9130434782608695, \"mean_test_score\": 0.8492753623188406, \"std_test_score\": 0.08106878997650431, \"rank_test_score\": 15}, {\"mean_fit_time\": 0.001813507080078125, \"std_fit_time\": 0.0001225708593446842, \"mean_score_time\": 0.0018334627151489259, \"std_score_time\": 0.00010286000057845477, \"param_kneighborsclassifier__n_neighbors\": 11, \"params\": {\"kneighborsclassifier__n_neighbors\": 11}, \"split0_test_score\": 0.7916666666666666, \"split1_test_score\": 0.9166666666666666, \"split2_test_score\": 0.7083333333333334, \"split3_test_score\": 0.8333333333333334, \"split4_test_score\": 0.9583333333333334, \"split5_test_score\": 0.875, \"split6_test_score\": 0.9583333333333334, \"split7_test_score\": 0.8333333333333334, \"split8_test_score\": 0.9565217391304348, \"split9_test_score\": 0.9130434782608695, \"mean_test_score\": 0.8744565217391305, \"std_test_score\": 0.07868264799006194, \"rank_test_score\": 2}, {\"mean_fit_time\": 0.0017780303955078126, \"std_fit_time\": 5.8277148355195375e-05, \"mean_score_time\": 0.0017837047576904296, \"std_score_time\": 3.615894245740564e-05, \"param_kneighborsclassifier__n_neighbors\": 12, \"params\": {\"kneighborsclassifier__n_neighbors\": 12}, \"split0_test_score\": 0.75, \"split1_test_score\": 0.875, \"split2_test_score\": 0.7083333333333334, \"split3_test_score\": 0.7916666666666666, \"split4_test_score\": 0.9583333333333334, \"split5_test_score\": 0.875, \"split6_test_score\": 0.8333333333333334, \"split7_test_score\": 0.8333333333333334, \"split8_test_score\": 0.9565217391304348, \"split9_test_score\": 0.9130434782608695, \"mean_test_score\": 0.8494565217391304, \"std_test_score\": 0.07895080510120822, \"rank_test_score\": 14}, {\"mean_fit_time\": 0.001719212532043457, \"std_fit_time\": 2.7755537567788377e-05, \"mean_score_time\": 0.001767873764038086, \"std_score_time\": 3.7124919390491174e-05, \"param_kneighborsclassifier__n_neighbors\": 13, \"params\": {\"kneighborsclassifier__n_neighbors\": 13}, \"split0_test_score\": 0.6666666666666666, \"split1_test_score\": 0.875, \"split2_test_score\": 0.75, \"split3_test_score\": 0.875, \"split4_test_score\": 0.9166666666666666, \"split5_test_score\": 0.7916666666666666, \"split6_test_score\": 0.8333333333333334, \"split7_test_score\": 0.875, \"split8_test_score\": 0.9565217391304348, \"split9_test_score\": 0.9130434782608695, \"mean_test_score\": 0.8452898550724639, \"std_test_score\": 0.08289186782630026, \"rank_test_score\": 16}, {\"mean_fit_time\": 0.00181884765625, \"std_fit_time\": 0.00010923171594986555, \"mean_score_time\": 0.0018486976623535156, \"std_score_time\": 8.610245277960612e-05, \"param_kneighborsclassifier__n_neighbors\": 14, \"params\": {\"kneighborsclassifier__n_neighbors\": 14}, \"split0_test_score\": 0.75, \"split1_test_score\": 0.875, \"split2_test_score\": 0.75, \"split3_test_score\": 0.8333333333333334, \"split4_test_score\": 0.9583333333333334, \"split5_test_score\": 0.8333333333333334, \"split6_test_score\": 0.7916666666666666, \"split7_test_score\": 0.875, \"split8_test_score\": 0.8695652173913043, \"split9_test_score\": 0.9130434782608695, \"mean_test_score\": 0.844927536231884, \"std_test_score\": 0.06406592186213642, \"rank_test_score\": 19}, {\"mean_fit_time\": 0.001723909378051758, \"std_fit_time\": 1.440932147839522e-05, \"mean_score_time\": 0.0017769813537597656, \"std_score_time\": 3.1747436979510715e-05, \"param_kneighborsclassifier__n_neighbors\": 15, \"params\": {\"kneighborsclassifier__n_neighbors\": 15}, \"split0_test_score\": 0.75, \"split1_test_score\": 0.875, \"split2_test_score\": 0.75, \"split3_test_score\": 0.875, \"split4_test_score\": 0.9583333333333334, \"split5_test_score\": 0.7916666666666666, \"split6_test_score\": 0.9166666666666666, \"split7_test_score\": 0.875, \"split8_test_score\": 0.8695652173913043, \"split9_test_score\": 0.9130434782608695, \"mean_test_score\": 0.857427536231884, \"std_test_score\": 0.06727847224140242, \"rank_test_score\": 10}, {\"mean_fit_time\": 0.0017121791839599609, \"std_fit_time\": 7.997655196301952e-06, \"mean_score_time\": 0.0017806291580200195, \"std_score_time\": 3.485305344647206e-05, \"param_kneighborsclassifier__n_neighbors\": 16, \"params\": {\"kneighborsclassifier__n_neighbors\": 16}, \"split0_test_score\": 0.7916666666666666, \"split1_test_score\": 0.875, \"split2_test_score\": 0.75, \"split3_test_score\": 0.8333333333333334, \"split4_test_score\": 0.9583333333333334, \"split5_test_score\": 0.875, \"split6_test_score\": 0.8333333333333334, \"split7_test_score\": 0.875, \"split8_test_score\": 0.8695652173913043, \"split9_test_score\": 0.9565217391304348, \"mean_test_score\": 0.8617753623188407, \"std_test_score\": 0.061573152839517774, \"rank_test_score\": 7}, {\"mean_fit_time\": 0.0017174243927001952, \"std_fit_time\": 1.1013906191071301e-05, \"mean_score_time\": 0.001776123046875, \"std_score_time\": 3.4681209313746656e-05, \"param_kneighborsclassifier__n_neighbors\": 17, \"params\": {\"kneighborsclassifier__n_neighbors\": 17}, \"split0_test_score\": 0.7916666666666666, \"split1_test_score\": 0.875, \"split2_test_score\": 0.75, \"split3_test_score\": 0.8333333333333334, \"split4_test_score\": 0.9583333333333334, \"split5_test_score\": 0.875, \"split6_test_score\": 0.9166666666666666, \"split7_test_score\": 0.875, \"split8_test_score\": 0.9130434782608695, \"split9_test_score\": 0.9565217391304348, \"mean_test_score\": 0.8744565217391305, \"std_test_score\": 0.06409076190368364, \"rank_test_score\": 2}, {\"mean_fit_time\": 0.0017127752304077148, \"std_fit_time\": 9.265530048048506e-06, \"mean_score_time\": 0.001781153678894043, \"std_score_time\": 2.4706205067660983e-05, \"param_kneighborsclassifier__n_neighbors\": 18, \"params\": {\"kneighborsclassifier__n_neighbors\": 18}, \"split0_test_score\": 0.75, \"split1_test_score\": 0.875, \"split2_test_score\": 0.75, \"split3_test_score\": 0.8333333333333334, \"split4_test_score\": 0.9583333333333334, \"split5_test_score\": 0.875, \"split6_test_score\": 0.9166666666666666, \"split7_test_score\": 0.875, \"split8_test_score\": 0.9130434782608695, \"split9_test_score\": 0.9565217391304348, \"mean_test_score\": 0.8702898550724638, \"std_test_score\": 0.07038317427007583, \"rank_test_score\": 5}, {\"mean_fit_time\": 0.0017405986785888673, \"std_fit_time\": 3.190432582885072e-05, \"mean_score_time\": 0.001816725730895996, \"std_score_time\": 6.841636631222443e-05, \"param_kneighborsclassifier__n_neighbors\": 19, \"params\": {\"kneighborsclassifier__n_neighbors\": 19}, \"split0_test_score\": 0.75, \"split1_test_score\": 0.875, \"split2_test_score\": 0.75, \"split3_test_score\": 0.9166666666666666, \"split4_test_score\": 0.9583333333333334, \"split5_test_score\": 0.875, \"split6_test_score\": 0.9166666666666666, \"split7_test_score\": 0.875, \"split8_test_score\": 0.9130434782608695, \"split9_test_score\": 0.9565217391304348, \"mean_test_score\": 0.8786231884057971, \"std_test_score\": 0.07044749244186307, \"rank_test_score\": 1}, {\"mean_fit_time\": 0.0017176389694213868, \"std_fit_time\": 1.5729863383116643e-05, \"mean_score_time\": 0.001794886589050293, \"std_score_time\": 2.7740091328625633e-05, \"param_kneighborsclassifier__n_neighbors\": 20, \"params\": {\"kneighborsclassifier__n_neighbors\": 20}, \"split0_test_score\": 0.75, \"split1_test_score\": 0.875, \"split2_test_score\": 0.75, \"split3_test_score\": 0.9166666666666666, \"split4_test_score\": 0.9583333333333334, \"split5_test_score\": 0.875, \"split6_test_score\": 0.875, \"split7_test_score\": 0.8333333333333334, \"split8_test_score\": 0.8260869565217391, \"split9_test_score\": 0.9130434782608695, \"mean_test_score\": 0.8572463768115943, \"std_test_score\": 0.06508037136034117, \"rank_test_score\": 11}, {\"mean_fit_time\": 0.0017126083374023437, \"std_fit_time\": 8.010154647279018e-06, \"mean_score_time\": 0.0017946243286132812, \"std_score_time\": 3.333545348335201e-05, \"param_kneighborsclassifier__n_neighbors\": 21, \"params\": {\"kneighborsclassifier__n_neighbors\": 21}, \"split0_test_score\": 0.75, \"split1_test_score\": 0.875, \"split2_test_score\": 0.75, \"split3_test_score\": 0.9166666666666666, \"split4_test_score\": 0.9583333333333334, \"split5_test_score\": 0.8333333333333334, \"split6_test_score\": 0.875, \"split7_test_score\": 0.8333333333333334, \"split8_test_score\": 0.8260869565217391, \"split9_test_score\": 0.9130434782608695, \"mean_test_score\": 0.8530797101449276, \"std_test_score\": 0.06514413155838777, \"rank_test_score\": 12}, {\"mean_fit_time\": 0.0017408132553100586, \"std_fit_time\": 3.366201007702989e-05, \"mean_score_time\": 0.001817035675048828, \"std_score_time\": 5.709931344430767e-05, \"param_kneighborsclassifier__n_neighbors\": 22, \"params\": {\"kneighborsclassifier__n_neighbors\": 22}, \"split0_test_score\": 0.7916666666666666, \"split1_test_score\": 0.875, \"split2_test_score\": 0.75, \"split3_test_score\": 0.875, \"split4_test_score\": 0.9583333333333334, \"split5_test_score\": 0.8333333333333334, \"split6_test_score\": 0.8333333333333334, \"split7_test_score\": 0.75, \"split8_test_score\": 0.8260869565217391, \"split9_test_score\": 0.9130434782608695, \"mean_test_score\": 0.8405797101449275, \"std_test_score\": 0.06372074986574669, \"rank_test_score\": 25}, {\"mean_fit_time\": 0.001729440689086914, \"std_fit_time\": 2.538722408367309e-05, \"mean_score_time\": 0.0018187284469604493, \"std_score_time\": 3.468265982180852e-05, \"param_kneighborsclassifier__n_neighbors\": 23, \"params\": {\"kneighborsclassifier__n_neighbors\": 23}, \"split0_test_score\": 0.7916666666666666, \"split1_test_score\": 0.875, \"split2_test_score\": 0.7083333333333334, \"split3_test_score\": 0.875, \"split4_test_score\": 0.9583333333333334, \"split5_test_score\": 0.8333333333333334, \"split6_test_score\": 0.8333333333333334, \"split7_test_score\": 0.7916666666666666, \"split8_test_score\": 0.8695652173913043, \"split9_test_score\": 0.9130434782608695, \"mean_test_score\": 0.8449275362318842, \"std_test_score\": 0.0667207956057749, \"rank_test_score\": 18}, {\"mean_fit_time\": 0.0018562793731689454, \"std_fit_time\": 0.0001586844928202958, \"mean_score_time\": 0.0019021987915039062, \"std_score_time\": 0.00014036903512955432, \"param_kneighborsclassifier__n_neighbors\": 24, \"params\": {\"kneighborsclassifier__n_neighbors\": 24}, \"split0_test_score\": 0.7916666666666666, \"split1_test_score\": 0.875, \"split2_test_score\": 0.7083333333333334, \"split3_test_score\": 0.8333333333333334, \"split4_test_score\": 0.9583333333333334, \"split5_test_score\": 0.8333333333333334, \"split6_test_score\": 0.8333333333333334, \"split7_test_score\": 0.7916666666666666, \"split8_test_score\": 0.8695652173913043, \"split9_test_score\": 0.9130434782608695, \"mean_test_score\": 0.8407608695652173, \"std_test_score\": 0.06600992881024256, \"rank_test_score\": 23}, {\"mean_fit_time\": 0.0019142866134643556, \"std_fit_time\": 0.00011348886899425354, \"mean_score_time\": 0.001964235305786133, \"std_score_time\": 0.00011072068456368162, \"param_kneighborsclassifier__n_neighbors\": 25, \"params\": {\"kneighborsclassifier__n_neighbors\": 25}, \"split0_test_score\": 0.75, \"split1_test_score\": 0.875, \"split2_test_score\": 0.75, \"split3_test_score\": 0.8333333333333334, \"split4_test_score\": 0.9583333333333334, \"split5_test_score\": 0.8333333333333334, \"split6_test_score\": 0.8333333333333334, \"split7_test_score\": 0.7916666666666666, \"split8_test_score\": 0.8695652173913043, \"split9_test_score\": 0.9130434782608695, \"mean_test_score\": 0.8407608695652173, \"std_test_score\": 0.06332525940974162, \"rank_test_score\": 23}, {\"mean_fit_time\": 0.0019249439239501954, \"std_fit_time\": 0.00016783901896117294, \"mean_score_time\": 0.001985049247741699, \"std_score_time\": 0.00014154288577181503, \"param_kneighborsclassifier__n_neighbors\": 26, \"params\": {\"kneighborsclassifier__n_neighbors\": 26}, \"split0_test_score\": 0.7916666666666666, \"split1_test_score\": 0.875, \"split2_test_score\": 0.7083333333333334, \"split3_test_score\": 0.8333333333333334, \"split4_test_score\": 0.9166666666666666, \"split5_test_score\": 0.8333333333333334, \"split6_test_score\": 0.8333333333333334, \"split7_test_score\": 0.7916666666666666, \"split8_test_score\": 0.8695652173913043, \"split9_test_score\": 0.9130434782608695, \"mean_test_score\": 0.8365942028985508, \"std_test_score\": 0.059445690929892665, \"rank_test_score\": 26}, {\"mean_fit_time\": 0.0018302440643310548, \"std_fit_time\": 4.3007196041648826e-05, \"mean_score_time\": 0.0019256591796875, \"std_score_time\": 0.0001033024426039534, \"param_kneighborsclassifier__n_neighbors\": 27, \"params\": {\"kneighborsclassifier__n_neighbors\": 27}, \"split0_test_score\": 0.7083333333333334, \"split1_test_score\": 0.875, \"split2_test_score\": 0.7083333333333334, \"split3_test_score\": 0.8333333333333334, \"split4_test_score\": 0.9583333333333334, \"split5_test_score\": 0.8333333333333334, \"split6_test_score\": 0.875, \"split7_test_score\": 0.7916666666666666, \"split8_test_score\": 0.8695652173913043, \"split9_test_score\": 0.9130434782608695, \"mean_test_score\": 0.8365942028985508, \"std_test_score\": 0.07722917664774032, \"rank_test_score\": 26}, {\"mean_fit_time\": 0.0019302129745483398, \"std_fit_time\": 0.00017204409064130766, \"mean_score_time\": 0.00198824405670166, \"std_score_time\": 0.00012679166612525653, \"param_kneighborsclassifier__n_neighbors\": 28, \"params\": {\"kneighborsclassifier__n_neighbors\": 28}, \"split0_test_score\": 0.75, \"split1_test_score\": 0.875, \"split2_test_score\": 0.7083333333333334, \"split3_test_score\": 0.8333333333333334, \"split4_test_score\": 0.9166666666666666, \"split5_test_score\": 0.8333333333333334, \"split6_test_score\": 0.875, \"split7_test_score\": 0.7916666666666666, \"split8_test_score\": 0.8260869565217391, \"split9_test_score\": 0.9130434782608695, \"mean_test_score\": 0.8322463768115943, \"std_test_score\": 0.0641222462634343, \"rank_test_score\": 30}, {\"mean_fit_time\": 0.0018764734268188477, \"std_fit_time\": 0.00013032785859484405, \"mean_score_time\": 0.001955103874206543, \"std_score_time\": 9.248428780748487e-05, \"param_kneighborsclassifier__n_neighbors\": 29, \"params\": {\"kneighborsclassifier__n_neighbors\": 29}, \"split0_test_score\": 0.75, \"split1_test_score\": 0.875, \"split2_test_score\": 0.75, \"split3_test_score\": 0.8333333333333334, \"split4_test_score\": 0.9583333333333334, \"split5_test_score\": 0.8333333333333334, \"split6_test_score\": 0.9166666666666666, \"split7_test_score\": 0.7916666666666666, \"split8_test_score\": 0.8695652173913043, \"split9_test_score\": 0.8695652173913043, \"mean_test_score\": 0.8447463768115944, \"std_test_score\": 0.06422887106743302, \"rank_test_score\": 21}, {\"mean_fit_time\": 0.001824951171875, \"std_fit_time\": 6.790336930753119e-05, \"mean_score_time\": 0.001903367042541504, \"std_score_time\": 3.772864596270317e-05, \"param_kneighborsclassifier__n_neighbors\": 30, \"params\": {\"kneighborsclassifier__n_neighbors\": 30}, \"split0_test_score\": 0.75, \"split1_test_score\": 0.875, \"split2_test_score\": 0.75, \"split3_test_score\": 0.8333333333333334, \"split4_test_score\": 0.9166666666666666, \"split5_test_score\": 0.875, \"split6_test_score\": 0.8333333333333334, \"split7_test_score\": 0.75, \"split8_test_score\": 0.8260869565217391, \"split9_test_score\": 0.8695652173913043, \"mean_test_score\": 0.8278985507246377, \"std_test_score\": 0.05685058555481029, \"rank_test_score\": 31}, {\"mean_fit_time\": 0.0019183635711669921, \"std_fit_time\": 0.00016290933376553144, \"mean_score_time\": 0.002046012878417969, \"std_score_time\": 0.00021046047300916622, \"param_kneighborsclassifier__n_neighbors\": 31, \"params\": {\"kneighborsclassifier__n_neighbors\": 31}, \"split0_test_score\": 0.7083333333333334, \"split1_test_score\": 0.9166666666666666, \"split2_test_score\": 0.75, \"split3_test_score\": 0.8333333333333334, \"split4_test_score\": 0.9166666666666666, \"split5_test_score\": 0.875, \"split6_test_score\": 0.8333333333333334, \"split7_test_score\": 0.8333333333333334, \"split8_test_score\": 0.8260869565217391, \"split9_test_score\": 0.8695652173913043, \"mean_test_score\": 0.8362318840579709, \"std_test_score\": 0.06282968078917583, \"rank_test_score\": 28}, {\"mean_fit_time\": 0.0018962860107421876, \"std_fit_time\": 0.00010599695336479463, \"mean_score_time\": 0.0019701242446899412, \"std_score_time\": 8.344017072904608e-05, \"param_kneighborsclassifier__n_neighbors\": 32, \"params\": {\"kneighborsclassifier__n_neighbors\": 32}, \"split0_test_score\": 0.7083333333333334, \"split1_test_score\": 0.875, \"split2_test_score\": 0.7083333333333334, \"split3_test_score\": 0.8333333333333334, \"split4_test_score\": 0.9166666666666666, \"split5_test_score\": 0.875, \"split6_test_score\": 0.8333333333333334, \"split7_test_score\": 0.75, \"split8_test_score\": 0.8260869565217391, \"split9_test_score\": 0.8695652173913043, \"mean_test_score\": 0.8195652173913043, \"std_test_score\": 0.06934029156591817, \"rank_test_score\": 34}, {\"mean_fit_time\": 0.0017629384994506836, \"std_fit_time\": 2.827166867589853e-05, \"mean_score_time\": 0.001894688606262207, \"std_score_time\": 3.8554200978187974e-05, \"param_kneighborsclassifier__n_neighbors\": 33, \"params\": {\"kneighborsclassifier__n_neighbors\": 33}, \"split0_test_score\": 0.6666666666666666, \"split1_test_score\": 0.875, \"split2_test_score\": 0.75, \"split3_test_score\": 0.8333333333333334, \"split4_test_score\": 0.9166666666666666, \"split5_test_score\": 0.875, \"split6_test_score\": 0.8333333333333334, \"split7_test_score\": 0.75, \"split8_test_score\": 0.8260869565217391, \"split9_test_score\": 0.8695652173913043, \"mean_test_score\": 0.8195652173913043, \"std_test_score\": 0.0718004056859623, \"rank_test_score\": 34}, {\"mean_fit_time\": 0.0018226385116577148, \"std_fit_time\": 7.528940502711252e-05, \"mean_score_time\": 0.0019403696060180664, \"std_score_time\": 6.724767090201086e-05, \"param_kneighborsclassifier__n_neighbors\": 34, \"params\": {\"kneighborsclassifier__n_neighbors\": 34}, \"split0_test_score\": 0.75, \"split1_test_score\": 0.875, \"split2_test_score\": 0.7083333333333334, \"split3_test_score\": 0.7916666666666666, \"split4_test_score\": 0.9166666666666666, \"split5_test_score\": 0.875, \"split6_test_score\": 0.8333333333333334, \"split7_test_score\": 0.75, \"split8_test_score\": 0.8260869565217391, \"split9_test_score\": 0.8695652173913043, \"mean_test_score\": 0.8195652173913043, \"std_test_score\": 0.06413759887930089, \"rank_test_score\": 34}, {\"mean_fit_time\": 0.0017991781234741211, \"std_fit_time\": 4.5993662961927555e-05, \"mean_score_time\": 0.001882648468017578, \"std_score_time\": 5.1385946561550783e-05, \"param_kneighborsclassifier__n_neighbors\": 35, \"params\": {\"kneighborsclassifier__n_neighbors\": 35}, \"split0_test_score\": 0.7083333333333334, \"split1_test_score\": 0.9166666666666666, \"split2_test_score\": 0.7083333333333334, \"split3_test_score\": 0.7916666666666666, \"split4_test_score\": 0.9166666666666666, \"split5_test_score\": 0.8333333333333334, \"split6_test_score\": 0.8333333333333334, \"split7_test_score\": 0.75, \"split8_test_score\": 0.8260869565217391, \"split9_test_score\": 0.8695652173913043, \"mean_test_score\": 0.8153985507246377, \"std_test_score\": 0.07208893089200212, \"rank_test_score\": 39}, {\"mean_fit_time\": 0.001904916763305664, \"std_fit_time\": 0.00012704094556686607, \"mean_score_time\": 0.001987743377685547, \"std_score_time\": 0.00011610229867130672, \"param_kneighborsclassifier__n_neighbors\": 36, \"params\": {\"kneighborsclassifier__n_neighbors\": 36}, \"split0_test_score\": 0.75, \"split1_test_score\": 0.9166666666666666, \"split2_test_score\": 0.7083333333333334, \"split3_test_score\": 0.7916666666666666, \"split4_test_score\": 0.9166666666666666, \"split5_test_score\": 0.8333333333333334, \"split6_test_score\": 0.8333333333333334, \"split7_test_score\": 0.75, \"split8_test_score\": 0.8260869565217391, \"split9_test_score\": 0.8695652173913043, \"mean_test_score\": 0.8195652173913043, \"std_test_score\": 0.06678962353707588, \"rank_test_score\": 34}, {\"mean_fit_time\": 0.0018927097320556641, \"std_fit_time\": 0.00012707223578718396, \"mean_score_time\": 0.0020703792572021483, \"std_score_time\": 0.00016902982072033825, \"param_kneighborsclassifier__n_neighbors\": 37, \"params\": {\"kneighborsclassifier__n_neighbors\": 37}, \"split0_test_score\": 0.75, \"split1_test_score\": 0.9166666666666666, \"split2_test_score\": 0.7083333333333334, \"split3_test_score\": 0.7916666666666666, \"split4_test_score\": 0.9583333333333334, \"split5_test_score\": 0.8333333333333334, \"split6_test_score\": 0.875, \"split7_test_score\": 0.75, \"split8_test_score\": 0.8260869565217391, \"split9_test_score\": 0.8695652173913043, \"mean_test_score\": 0.8278985507246377, \"std_test_score\": 0.07524988128549015, \"rank_test_score\": 31}, {\"mean_fit_time\": 0.0019121170043945312, \"std_fit_time\": 0.0001845394917826736, \"mean_score_time\": 0.0020381927490234373, \"std_score_time\": 0.00012948986040261726, \"param_kneighborsclassifier__n_neighbors\": 38, \"params\": {\"kneighborsclassifier__n_neighbors\": 38}, \"split0_test_score\": 0.75, \"split1_test_score\": 0.9166666666666666, \"split2_test_score\": 0.7083333333333334, \"split3_test_score\": 0.7916666666666666, \"split4_test_score\": 0.9583333333333334, \"split5_test_score\": 0.8333333333333334, \"split6_test_score\": 0.8333333333333334, \"split7_test_score\": 0.75, \"split8_test_score\": 0.8260869565217391, \"split9_test_score\": 0.8695652173913043, \"mean_test_score\": 0.8237318840579709, \"std_test_score\": 0.0736633053574551, \"rank_test_score\": 33}, {\"mean_fit_time\": 0.00196378231048584, \"std_fit_time\": 0.0001600379468777838, \"mean_score_time\": 0.0020400285720825195, \"std_score_time\": 0.00019143308306012437, \"param_kneighborsclassifier__n_neighbors\": 39, \"params\": {\"kneighborsclassifier__n_neighbors\": 39}, \"split0_test_score\": 0.7083333333333334, \"split1_test_score\": 0.9166666666666666, \"split2_test_score\": 0.7083333333333334, \"split3_test_score\": 0.7916666666666666, \"split4_test_score\": 0.9583333333333334, \"split5_test_score\": 0.8333333333333334, \"split6_test_score\": 0.8333333333333334, \"split7_test_score\": 0.75, \"split8_test_score\": 0.8260869565217391, \"split9_test_score\": 0.8695652173913043, \"mean_test_score\": 0.8195652173913043, \"std_test_score\": 0.07872080362480703, \"rank_test_score\": 34}]}}, {\"mode\": \"vega-lite\"});\n",
       "</script>"
      ],
      "text/plain": [
       "alt.Chart(...)"
      ]
     },
     "execution_count": 15,
     "metadata": {},
     "output_type": "execute_result"
    }
   ],
   "source": [
    "accuracy_versus_k_grid = (\n",
    "    alt.Chart(accuracies_grid)\n",
    "    .mark_line(point=True)\n",
    "    .properties(title='Figure 1: Mean Test Score against K (Number of Neighbors)')\n",
    "    .encode(\n",
    "        x = alt.X('param_kneighborsclassifier__n_neighbors', title='Number of Neighbors', scale=alt.Scale(zero=False)),\n",
    "        y = alt.Y('mean_test_score', title='Mean Test Score', scale=alt.Scale(zero=False))\n",
    "    )\n",
    ")\n",
    " \n",
    "accuracy_versus_k_grid"
   ]
  },
  {
   "cell_type": "markdown",
   "id": "4489e7a1-e0f2-447e-a016-dd2c6e86b136",
   "metadata": {},
   "source": [
    "#### Selecting $K$ and predicting heart disease presence in our test set\n",
    "The `n_neighbours` value with the highest mean test score was chosen (n=19). We then evaluated our model's performance on the testing set, consisting of 75 observations, using the predict() function"
   ]
  },
  {
   "cell_type": "code",
   "execution_count": 16,
   "id": "b76ded6e-2440-43d9-989a-46b9f605322c",
   "metadata": {
    "tags": []
   },
   "outputs": [],
   "source": [
    "knn_spec = KNeighborsClassifier(n_neighbors=19)\n",
    "cleveland_fit = make_pipeline(cleveland_preprocessor, knn_spec).fit(X_train, y_train)"
   ]
  },
  {
   "cell_type": "code",
   "execution_count": 17,
   "id": "db061bda-58e3-419e-8313-ef6efb2fe773",
   "metadata": {
    "tags": []
   },
   "outputs": [
    {
     "data": {
      "text/html": [
       "<div>\n",
       "<style scoped>\n",
       "    .dataframe tbody tr th:only-of-type {\n",
       "        vertical-align: middle;\n",
       "    }\n",
       "\n",
       "    .dataframe tbody tr th {\n",
       "        vertical-align: top;\n",
       "    }\n",
       "\n",
       "    .dataframe thead th {\n",
       "        text-align: right;\n",
       "    }\n",
       "</style>\n",
       "<table border=\"1\" class=\"dataframe\">\n",
       "  <thead>\n",
       "    <tr style=\"text-align: right;\">\n",
       "      <th></th>\n",
       "      <th>age</th>\n",
       "      <th>sex</th>\n",
       "      <th>cp</th>\n",
       "      <th>trestbps</th>\n",
       "      <th>chol</th>\n",
       "      <th>fbs</th>\n",
       "      <th>restecg</th>\n",
       "      <th>thalach</th>\n",
       "      <th>exang</th>\n",
       "      <th>oldpeak</th>\n",
       "      <th>slope</th>\n",
       "      <th>ca</th>\n",
       "      <th>thal</th>\n",
       "      <th>heart_disease_presence</th>\n",
       "      <th>predicted</th>\n",
       "    </tr>\n",
       "  </thead>\n",
       "  <tbody>\n",
       "    <tr>\n",
       "      <th>22</th>\n",
       "      <td>0.213487</td>\n",
       "      <td>0.771845</td>\n",
       "      <td>-0.949499</td>\n",
       "      <td>-0.824686</td>\n",
       "      <td>0.894102</td>\n",
       "      <td>-0.520756</td>\n",
       "      <td>0.980241</td>\n",
       "      <td>0.422524</td>\n",
       "      <td>-0.665062</td>\n",
       "      <td>0.631275</td>\n",
       "      <td>0.613559</td>\n",
       "      <td>-0.833663</td>\n",
       "      <td>-0.880854</td>\n",
       "      <td>1</td>\n",
       "      <td>0</td>\n",
       "    </tr>\n",
       "    <tr>\n",
       "      <th>53</th>\n",
       "      <td>-1.301117</td>\n",
       "      <td>0.771845</td>\n",
       "      <td>-0.949499</td>\n",
       "      <td>-0.242829</td>\n",
       "      <td>-0.495805</td>\n",
       "      <td>-0.520756</td>\n",
       "      <td>0.980241</td>\n",
       "      <td>1.618346</td>\n",
       "      <td>-0.665062</td>\n",
       "      <td>-0.877081</td>\n",
       "      <td>-0.973232</td>\n",
       "      <td>-0.833663</td>\n",
       "      <td>-0.880854</td>\n",
       "      <td>0</td>\n",
       "      <td>0</td>\n",
       "    </tr>\n",
       "    <tr>\n",
       "      <th>30</th>\n",
       "      <td>1.403533</td>\n",
       "      <td>-1.295597</td>\n",
       "      <td>-1.911828</td>\n",
       "      <td>0.339029</td>\n",
       "      <td>-0.068141</td>\n",
       "      <td>-0.520756</td>\n",
       "      <td>-1.033953</td>\n",
       "      <td>0.038152</td>\n",
       "      <td>-0.665062</td>\n",
       "      <td>0.631275</td>\n",
       "      <td>-0.973232</td>\n",
       "      <td>1.216328</td>\n",
       "      <td>-0.880854</td>\n",
       "      <td>0</td>\n",
       "      <td>0</td>\n",
       "    </tr>\n",
       "    <tr>\n",
       "      <th>274</th>\n",
       "      <td>0.321673</td>\n",
       "      <td>0.771845</td>\n",
       "      <td>-1.911828</td>\n",
       "      <td>-0.010086</td>\n",
       "      <td>-0.816553</td>\n",
       "      <td>-0.520756</td>\n",
       "      <td>-1.033953</td>\n",
       "      <td>0.507940</td>\n",
       "      <td>-0.665062</td>\n",
       "      <td>-0.206701</td>\n",
       "      <td>-0.973232</td>\n",
       "      <td>1.216328</td>\n",
       "      <td>-0.880854</td>\n",
       "      <td>1</td>\n",
       "      <td>0</td>\n",
       "    </tr>\n",
       "    <tr>\n",
       "      <th>1</th>\n",
       "      <td>1.187161</td>\n",
       "      <td>0.771845</td>\n",
       "      <td>0.975161</td>\n",
       "      <td>1.502745</td>\n",
       "      <td>0.936869</td>\n",
       "      <td>-0.520756</td>\n",
       "      <td>0.980241</td>\n",
       "      <td>-1.798289</td>\n",
       "      <td>1.503619</td>\n",
       "      <td>0.379882</td>\n",
       "      <td>0.613559</td>\n",
       "      <td>2.241324</td>\n",
       "      <td>-0.880854</td>\n",
       "      <td>1</td>\n",
       "      <td>1</td>\n",
       "    </tr>\n",
       "  </tbody>\n",
       "</table>\n",
       "</div>"
      ],
      "text/plain": [
       "          age       sex        cp  trestbps      chol       fbs   restecg  \\\n",
       "22   0.213487  0.771845 -0.949499 -0.824686  0.894102 -0.520756  0.980241   \n",
       "53  -1.301117  0.771845 -0.949499 -0.242829 -0.495805 -0.520756  0.980241   \n",
       "30   1.403533 -1.295597 -1.911828  0.339029 -0.068141 -0.520756 -1.033953   \n",
       "274  0.321673  0.771845 -1.911828 -0.010086 -0.816553 -0.520756 -1.033953   \n",
       "1    1.187161  0.771845  0.975161  1.502745  0.936869 -0.520756  0.980241   \n",
       "\n",
       "      thalach     exang   oldpeak     slope        ca      thal  \\\n",
       "22   0.422524 -0.665062  0.631275  0.613559 -0.833663 -0.880854   \n",
       "53   1.618346 -0.665062 -0.877081 -0.973232 -0.833663 -0.880854   \n",
       "30   0.038152 -0.665062  0.631275 -0.973232  1.216328 -0.880854   \n",
       "274  0.507940 -0.665062 -0.206701 -0.973232  1.216328 -0.880854   \n",
       "1   -1.798289  1.503619  0.379882  0.613559  2.241324 -0.880854   \n",
       "\n",
       "     heart_disease_presence  predicted  \n",
       "22                        1          0  \n",
       "53                        0          0  \n",
       "30                        0          0  \n",
       "274                       1          0  \n",
       "1                         1          1  "
      ]
     },
     "execution_count": 17,
     "metadata": {},
     "output_type": "execute_result"
    }
   ],
   "source": [
    "cleveland_test_predictions = cleveland_test_scaled.assign(\n",
    "    predicted = cleveland_fit.predict(cleveland_test_scaled)\n",
    ")\n",
    "cleveland_test_predictions.head(5)"
   ]
  },
  {
   "cell_type": "markdown",
   "id": "7b4633f9-02fa-498a-a769-d5ca9c3fcec0",
   "metadata": {},
   "source": [
    "#### Confusion Matrix\n",
    "\n",
    "A confusion matrix (Figure 2) was generated to show four kinds of predictions generated with this model, as well as the precision and recall were calculated based on the prediction result from the testing set. "
   ]
  },
  {
   "cell_type": "code",
   "execution_count": 18,
   "id": "9e89d379-4ee1-485b-810e-aa665b5ba25e",
   "metadata": {
    "tags": []
   },
   "outputs": [],
   "source": [
    "y_true = cleveland_test_predictions['heart_disease_presence']\n",
    "y_pred = cleveland_test_predictions['predicted']"
   ]
  },
  {
   "cell_type": "code",
   "execution_count": 19,
   "id": "2586ba94-8722-441a-bc77-c590ec24daee",
   "metadata": {},
   "outputs": [
    {
     "data": {
      "text/plain": [
       "<Figure size 800x600 with 0 Axes>"
      ]
     },
     "metadata": {},
     "output_type": "display_data"
    },
    {
     "data": {
      "image/png": "[encoded data removed]",
      "text/plain": [
       "<Figure size 640x480 with 2 Axes>"
      ]
     },
     "metadata": {},
     "output_type": "display_data"
    }
   ],
   "source": [
    "cm = confusion_matrix(y_true, y_pred)\n",
    "cmd = ConfusionMatrixDisplay(cm, display_labels=['1','0'])\n",
    "plt.figure(figsize=(8, 6)) \n",
    "cmd.plot()\n",
    "plt.title('Figure 2: Confusion Matrix')\n",
    "plt.xlabel('Predicted Label')\n",
    "plt.ylabel('True Label')\n",
    "plt.show()"
   ]
  },
  {
   "cell_type": "markdown",
   "id": "6b293545-bcda-49f8-88b3-bf29759a4d5c",
   "metadata": {},
   "source": [
    "#### Determining Model Performance\n",
    "\n",
    "Finally, we were able to determine the accuracy, precision and recall of our classifier based on the number of correct predictions."
   ]
  },
  {
   "cell_type": "code",
   "execution_count": 20,
   "id": "e1e200aa-7a10-4268-9691-7d9cd6cbe05d",
   "metadata": {},
   "outputs": [
    {
     "name": "stdout",
     "output_type": "stream",
     "text": [
      "Table 1: Model Performance on Test Data\n"
     ]
    },
    {
     "data": {
      "text/html": [
       "<div>\n",
       "<style scoped>\n",
       "    .dataframe tbody tr th:only-of-type {\n",
       "        vertical-align: middle;\n",
       "    }\n",
       "\n",
       "    .dataframe tbody tr th {\n",
       "        vertical-align: top;\n",
       "    }\n",
       "\n",
       "    .dataframe thead th {\n",
       "        text-align: right;\n",
       "    }\n",
       "</style>\n",
       "<table border=\"1\" class=\"dataframe\">\n",
       "  <thead>\n",
       "    <tr style=\"text-align: right;\">\n",
       "      <th></th>\n",
       "      <th>Metric</th>\n",
       "      <th>Value</th>\n",
       "    </tr>\n",
       "  </thead>\n",
       "  <tbody>\n",
       "    <tr>\n",
       "      <th>0</th>\n",
       "      <td>Accuracy</td>\n",
       "      <td>0.840</td>\n",
       "    </tr>\n",
       "    <tr>\n",
       "      <th>1</th>\n",
       "      <td>Precision</td>\n",
       "      <td>0.867</td>\n",
       "    </tr>\n",
       "    <tr>\n",
       "      <th>2</th>\n",
       "      <td>Recall</td>\n",
       "      <td>0.765</td>\n",
       "    </tr>\n",
       "  </tbody>\n",
       "</table>\n",
       "</div>"
      ],
      "text/plain": [
       "      Metric  Value\n",
       "0   Accuracy  0.840\n",
       "1  Precision  0.867\n",
       "2     Recall  0.765"
      ]
     },
     "execution_count": 20,
     "metadata": {},
     "output_type": "execute_result"
    }
   ],
   "source": [
    "X_test = cleveland_test_scaled.drop(columns = {'heart_disease_presence'})\n",
    "y_test = cleveland_test_scaled['heart_disease_presence']\n",
    "cleveland_prediction_accuracy = cleveland_fit.score(X_test, y_test)\n",
    "\n",
    "precision = precision_score(y_true, y_pred)\n",
    "recall = recall_score(y_true, y_pred)\n",
    "\n",
    "model_performance_df = pd.DataFrame({'Metric': ['Accuracy', 'Precision', 'Recall'],\n",
    "        'Value': [cleveland_prediction_accuracy, precision, recall]}).round(3)\n",
    "\n",
    "print('Table 1: Model Performance on Test Data')\n",
    "model_performance_df"
   ]
  },
  {
   "cell_type": "markdown",
   "id": "c963713c-11a2-4290-ae10-a6e54c060d78",
   "metadata": {},
   "source": [
    "## Discussion\n",
    "The goal of our project was to build an accurate classification model to predict the presence of heart disease based on available predictor features. We first decided to convert our response variable (heart disease presence level) from 0-4 to 0-1. As before, the range of 1-4 correlated to the severity of the disease but we decided to condense these all into the same category of positive diagnoses. Since the goal of our classifier is only detecting the presence of heart disease and not the severity of the disease, changing all the positive values to 1 and keeping all negatives as 0 was effective for the purpose of this classifier. \n",
    "\n",
    "Using the selected 4 predictor variables (`trestbps`, `chol`, `thalach`, `oldpeak`) from the proposal after changing the levels 1-4 to 1 in the heart disease presence variable, we obtained a high false negative value, recall of 50.0% and precision of 85.7%. To decrease the false negative value for clinical purposes, we balanced the samples from level 0 with 124 data counts and level 1 with 103 data counts to both levels having 124 data counts via upsampling. Through balancing the data, we increased the recall to 55.6%; however, precision was lowered to 69.0%. \n",
    "We then realized the difficulties in obtaining an ideal recall and lowering false positive cases may be due to the loss of information from dropping the categorical columns. Our original hypothesis that our classification model should only be trained on quantitative data resulted in an inaccurate classifier. By restoring all categorical columns (specified in the methods) and training the model on the balanced heart disease presence dataset, we obtained the final model with 84% accuracy, 86.7% precision and 76.5% recall (Table 1), which outcompeted the models trained with only 4 predictor variables. As such, we were able to build a highly accurate classifier. The 2x2 confusion matrix provides a clear representation of four kinds of prediction that this classifier can make as a disease classifier, and it's low false negative error rate (Figure 2).   \n",
    "\n",
    "As mentioned previously, our goal is to have a classifier that can accurately predict whether or not a patient has heart disease. The current model is 84% accurate in predicting a randomly drawn testing set using K-nearest neighbours’ classifier with the number of neighbours equal to 19 (n = 19). The 84% prediction accuracy was obtained from a 10-fold cross-validation and n = 19 was determined by plotting the accuracies versus number of K-neighbours and obtaining the number of K that returned the highest prediction accuracy. This is an ideal accuracy that we are expected to find with current ability. Also, a current recall of 76.5% is higher than previous models trained with 4 predictor variables which indicates an increase in ratio between the number of correct positive predictions and total number of positive test set observations. Therefore, an increase in recall represents a decrease in false negatives, which benefits this model’s clinical utility.\n",
    "\t\n",
    "The development of an accurate classification model for predicting the presence of heart disease based on various predictor variables could have impacts on clinical diagnosis improvement, early intervention and variable selection. The classifier with an 84% accuracy can potentially assist healthcare professionals in diagnosing the presence of heart disease more effectively. The model’s ability to balance precision (86.7%) and recall (76.5%) is crucial in a clinical setting. High precision ensures that positive predictions are reliable, while a high recall can indicate proportion of actual positive cases, reducing the chances of false negatives. A reliable heart disease prediction model can contribute to early intervention with early diagnosis. This could lead to a reduction in the severity of heart-related diseases. The 13 predictor variables used in this model were shown to have a relationship with heart disease presence, so they can be used as a guide to doctors when diagnosing a patient with heart disease.\n",
    "\n",
    "Other impacts that our findings have on building clinical classifiers are consideration of categorial variables and trade-offs in precision and recall. The realization that including categorical variables in the model can improve its performance highlights the significance of considering various types of data in healthcare analytics. This insight could influence the design of future classification models for medical diagnoses. Our two abandoned models demonstrate the trade-offs between precision and recall and how balancing the dataset can impact model performance. By balancing the dataset, the precision dropped from 85% to 69% while recall increased from 50% to 55%. It is important for healthcare analysts to decide whether it’s more important to minimize false positives or false negatives based on the context of the medical application.\n",
    "Since this classifier is 81% accurate, there is a great space for improvement, which could lead to further research, such as exploring additional predictor variables, investigating the generalizability of the model to different patient populations, and comparing with other existing classifiers."
   ]
  },
  {
   "cell_type": "markdown",
   "id": "c618f6cd-13e3-41a1-9b33-af6da9164f65",
   "metadata": {},
   "source": [
    "## References:\n",
    "\n",
    "1. Detrano, R., Janosi, A., Steinbrunn, W., Pfisterer, M., Schmid, J.-J., Sandhu, S., Guppy, K. H., Lee, S., & Froelicher, V. (1989). International application of a new probability algorithm for the diagnosis of coronary artery disease. The American Journal of Cardiology, 64(5), 304–310. https://doi.org/10.1016/0002-9149(89)90524-9\n",
    "2. Canada, Public Health Agency of. “Government of Canada.” Canada.Ca, / Gouvernement du Canada, 28 July 2022, www.canada.ca/en/public-health/services/publications/diseases-conditions/heart-disease-canada.html.   \n",
    "3. “Heart Disease.” UCI Machine Learning Repository, 1988, archive.ics.uci.edu/dataset/45/heart+disease.  \n",
    "4. Parry, R M, et al. “K-nearest neighbor models for microarray gene expression analysis and clinical outcome prediction.” The Pharmacogenomics Journal, vol. 10, no. 4, 2010, pp. 292–309, https://doi.org/10.1038/tpj.2010.56. \n",
    "5. Tayeb, Shahab, et al. “Toward predicting medical conditions using K-nearest neighbors.” 2017 IEEE International Conference on Big Data (Big Data), 2017, https://doi.org/10.1109/bigdata.2017.8258395. \n"
   ]
  }
 ],
 "metadata": {
  "kernelspec": {
   "display_name": "Python 3 (ipykernel)",
   "language": "python",
   "name": "python3"
  },
  "language_info": {
   "codemirror_mode": {
    "name": "ipython",
    "version": 3
   },
   "file_extension": ".py",
   "mimetype": "text/x-python",
   "name": "python",
   "nbconvert_exporter": "python",
   "pygments_lexer": "ipython3",
   "version": "3.11.6"
  }
 },
 "nbformat": 4,
 "nbformat_minor": 5
}
